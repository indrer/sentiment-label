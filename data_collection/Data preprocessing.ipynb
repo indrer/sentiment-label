{
 "cells": [
  {
   "cell_type": "code",
   "execution_count": 182,
   "metadata": {},
   "outputs": [],
   "source": [
    "import pandas as pd\n",
    "from googletrans import Translator\n",
    "import demoji\n",
    "#demoji.download_codes()\n",
    "import re"
   ]
  },
  {
   "cell_type": "code",
   "execution_count": 30,
   "metadata": {},
   "outputs": [],
   "source": [
    "data_original_23 = pd.read_csv('2020-11-23.csv', names=['body', 'positive', 'negative', 'neutral', 'rated', 'comment_id', 'video_id', 'date'])"
   ]
  },
  {
   "cell_type": "code",
   "execution_count": 31,
   "metadata": {},
   "outputs": [
    {
     "data": {
      "text/plain": [
       "(828848, 8)"
      ]
     },
     "execution_count": 31,
     "metadata": {},
     "output_type": "execute_result"
    }
   ],
   "source": [
    "data_original_23.shape"
   ]
  },
  {
   "cell_type": "code",
   "execution_count": 32,
   "metadata": {},
   "outputs": [
    {
     "data": {
      "text/html": [
       "<div>\n",
       "<style scoped>\n",
       "    .dataframe tbody tr th:only-of-type {\n",
       "        vertical-align: middle;\n",
       "    }\n",
       "\n",
       "    .dataframe tbody tr th {\n",
       "        vertical-align: top;\n",
       "    }\n",
       "\n",
       "    .dataframe thead th {\n",
       "        text-align: right;\n",
       "    }\n",
       "</style>\n",
       "<table border=\"1\" class=\"dataframe\">\n",
       "  <thead>\n",
       "    <tr style=\"text-align: right;\">\n",
       "      <th></th>\n",
       "      <th>body</th>\n",
       "      <th>positive</th>\n",
       "      <th>negative</th>\n",
       "      <th>neutral</th>\n",
       "      <th>rated</th>\n",
       "      <th>comment_id</th>\n",
       "      <th>video_id</th>\n",
       "      <th>date</th>\n",
       "    </tr>\n",
       "  </thead>\n",
       "  <tbody>\n",
       "    <tr>\n",
       "      <th>0</th>\n",
       "      <td>That is isi</td>\n",
       "      <td>0</td>\n",
       "      <td>0</td>\n",
       "      <td>0</td>\n",
       "      <td>0</td>\n",
       "      <td>UgwuZFfTaSoWvXEACxx4AaABAg</td>\n",
       "      <td>IJaAIyOEw0M</td>\n",
       "      <td>2020-11-23T13:32:49Z</td>\n",
       "    </tr>\n",
       "    <tr>\n",
       "      <th>1</th>\n",
       "      <td>CWC devster is jelly</td>\n",
       "      <td>0</td>\n",
       "      <td>0</td>\n",
       "      <td>0</td>\n",
       "      <td>0</td>\n",
       "      <td>UgyOqAVOUalbqO8vgtB4AaABAg</td>\n",
       "      <td>IJaAIyOEw0M</td>\n",
       "      <td>2020-11-23T13:22:30Z</td>\n",
       "    </tr>\n",
       "    <tr>\n",
       "      <th>2</th>\n",
       "      <td>i love plaing piggy aswell😌</td>\n",
       "      <td>0</td>\n",
       "      <td>0</td>\n",
       "      <td>0</td>\n",
       "      <td>0</td>\n",
       "      <td>UgwHkyrnDZlAM5ntq3V4AaABAg</td>\n",
       "      <td>IJaAIyOEw0M</td>\n",
       "      <td>2020-11-23T12:35:23Z</td>\n",
       "    </tr>\n",
       "    <tr>\n",
       "      <th>3</th>\n",
       "      <td>chad regina i am a biggggg fannnnnnnnnnnnnn+</td>\n",
       "      <td>0</td>\n",
       "      <td>0</td>\n",
       "      <td>0</td>\n",
       "      <td>0</td>\n",
       "      <td>UgyB2RclkfwhPO0A8UN4AaABAg</td>\n",
       "      <td>IJaAIyOEw0M</td>\n",
       "      <td>2020-11-23T12:31:22Z</td>\n",
       "    </tr>\n",
       "    <tr>\n",
       "      <th>4</th>\n",
       "      <td>They are so funny they make me laugh all the t...</td>\n",
       "      <td>0</td>\n",
       "      <td>0</td>\n",
       "      <td>0</td>\n",
       "      <td>0</td>\n",
       "      <td>UgyGHJQyzdvu1G-jvF54AaABAg</td>\n",
       "      <td>IJaAIyOEw0M</td>\n",
       "      <td>2020-11-23T12:11:17Z</td>\n",
       "    </tr>\n",
       "    <tr>\n",
       "      <th>...</th>\n",
       "      <td>...</td>\n",
       "      <td>...</td>\n",
       "      <td>...</td>\n",
       "      <td>...</td>\n",
       "      <td>...</td>\n",
       "      <td>...</td>\n",
       "      <td>...</td>\n",
       "      <td>...</td>\n",
       "    </tr>\n",
       "    <tr>\n",
       "      <th>828843</th>\n",
       "      <td>the singing, the production, the writing...per...</td>\n",
       "      <td>0</td>\n",
       "      <td>0</td>\n",
       "      <td>0</td>\n",
       "      <td>0</td>\n",
       "      <td>UgySOhaNknY4wEOatdV4AaABAg</td>\n",
       "      <td>kXYiU_JCYtU</td>\n",
       "      <td>2020-10-13T06:27:02Z</td>\n",
       "    </tr>\n",
       "    <tr>\n",
       "      <th>828844</th>\n",
       "      <td>So eu de br aqui??? 🇧🇷🇧🇷🇧🇷🇧🇷</td>\n",
       "      <td>0</td>\n",
       "      <td>0</td>\n",
       "      <td>0</td>\n",
       "      <td>0</td>\n",
       "      <td>UgyKjgSeaFxhBl1dvAt4AaABAg</td>\n",
       "      <td>kXYiU_JCYtU</td>\n",
       "      <td>2020-10-13T06:24:05Z</td>\n",
       "    </tr>\n",
       "    <tr>\n",
       "      <th>828845</th>\n",
       "      <td>I need boy friend</td>\n",
       "      <td>0</td>\n",
       "      <td>0</td>\n",
       "      <td>0</td>\n",
       "      <td>0</td>\n",
       "      <td>UgzZz2FvdpVbtE_1VMZ4AaABAg</td>\n",
       "      <td>kXYiU_JCYtU</td>\n",
       "      <td>2020-10-13T06:16:01Z</td>\n",
       "    </tr>\n",
       "    <tr>\n",
       "      <th>828846</th>\n",
       "      <td>If you're still searching this song after 8 ye...</td>\n",
       "      <td>0</td>\n",
       "      <td>0</td>\n",
       "      <td>0</td>\n",
       "      <td>0</td>\n",
       "      <td>UgzBgZz48VnwiwoZd7V4AaABAg</td>\n",
       "      <td>kXYiU_JCYtU</td>\n",
       "      <td>2020-10-13T06:11:41Z</td>\n",
       "    </tr>\n",
       "    <tr>\n",
       "      <th>828847</th>\n",
       "      <td>The lyrics💓</td>\n",
       "      <td>0</td>\n",
       "      <td>0</td>\n",
       "      <td>0</td>\n",
       "      <td>0</td>\n",
       "      <td>Ugwd9DaxY1YyCsPwmtx4AaABAg</td>\n",
       "      <td>kXYiU_JCYtU</td>\n",
       "      <td>2020-10-13T05:59:10Z</td>\n",
       "    </tr>\n",
       "  </tbody>\n",
       "</table>\n",
       "<p>828848 rows × 8 columns</p>\n",
       "</div>"
      ],
      "text/plain": [
       "                                                     body  positive  negative  \\\n",
       "0                                             That is isi         0         0   \n",
       "1                                    CWC devster is jelly         0         0   \n",
       "2                             i love plaing piggy aswell😌         0         0   \n",
       "3            chad regina i am a biggggg fannnnnnnnnnnnnn+         0         0   \n",
       "4       They are so funny they make me laugh all the t...         0         0   \n",
       "...                                                   ...       ...       ...   \n",
       "828843  the singing, the production, the writing...per...         0         0   \n",
       "828844                       So eu de br aqui??? 🇧🇷🇧🇷🇧🇷🇧🇷         0         0   \n",
       "828845                                  I need boy friend         0         0   \n",
       "828846  If you're still searching this song after 8 ye...         0         0   \n",
       "828847                                        The lyrics💓         0         0   \n",
       "\n",
       "        neutral  rated                  comment_id     video_id  \\\n",
       "0             0      0  UgwuZFfTaSoWvXEACxx4AaABAg  IJaAIyOEw0M   \n",
       "1             0      0  UgyOqAVOUalbqO8vgtB4AaABAg  IJaAIyOEw0M   \n",
       "2             0      0  UgwHkyrnDZlAM5ntq3V4AaABAg  IJaAIyOEw0M   \n",
       "3             0      0  UgyB2RclkfwhPO0A8UN4AaABAg  IJaAIyOEw0M   \n",
       "4             0      0  UgyGHJQyzdvu1G-jvF54AaABAg  IJaAIyOEw0M   \n",
       "...         ...    ...                         ...          ...   \n",
       "828843        0      0  UgySOhaNknY4wEOatdV4AaABAg  kXYiU_JCYtU   \n",
       "828844        0      0  UgyKjgSeaFxhBl1dvAt4AaABAg  kXYiU_JCYtU   \n",
       "828845        0      0  UgzZz2FvdpVbtE_1VMZ4AaABAg  kXYiU_JCYtU   \n",
       "828846        0      0  UgzBgZz48VnwiwoZd7V4AaABAg  kXYiU_JCYtU   \n",
       "828847        0      0  Ugwd9DaxY1YyCsPwmtx4AaABAg  kXYiU_JCYtU   \n",
       "\n",
       "                        date  \n",
       "0       2020-11-23T13:32:49Z  \n",
       "1       2020-11-23T13:22:30Z  \n",
       "2       2020-11-23T12:35:23Z  \n",
       "3       2020-11-23T12:31:22Z  \n",
       "4       2020-11-23T12:11:17Z  \n",
       "...                      ...  \n",
       "828843  2020-10-13T06:27:02Z  \n",
       "828844  2020-10-13T06:24:05Z  \n",
       "828845  2020-10-13T06:16:01Z  \n",
       "828846  2020-10-13T06:11:41Z  \n",
       "828847  2020-10-13T05:59:10Z  \n",
       "\n",
       "[828848 rows x 8 columns]"
      ]
     },
     "execution_count": 32,
     "metadata": {},
     "output_type": "execute_result"
    }
   ],
   "source": [
    "data_original_23"
   ]
  },
  {
   "cell_type": "markdown",
   "metadata": {},
   "source": [
    "Check for duplicates"
   ]
  },
  {
   "cell_type": "code",
   "execution_count": 33,
   "metadata": {},
   "outputs": [
    {
     "data": {
      "text/plain": [
       "(828848, 8)"
      ]
     },
     "execution_count": 33,
     "metadata": {},
     "output_type": "execute_result"
    }
   ],
   "source": [
    "data_original_23.drop_duplicates('comment_id').shape"
   ]
  },
  {
   "cell_type": "markdown",
   "metadata": {},
   "source": [
    "We will use language and language confidence columns"
   ]
  },
  {
   "cell_type": "code",
   "execution_count": 37,
   "metadata": {},
   "outputs": [],
   "source": [
    "data_original_23['lang'] = ''\n",
    "data_original_23['lang_conf'] = ''"
   ]
  },
  {
   "cell_type": "markdown",
   "metadata": {},
   "source": [
    "Remove emoji only comments"
   ]
  },
  {
   "cell_type": "code",
   "execution_count": 35,
   "metadata": {},
   "outputs": [],
   "source": [
    "data_original_23['stripped_body'] = [demoji.replace(str(comment)) for comment in data_original_23['body'].values]"
   ]
  },
  {
   "cell_type": "code",
   "execution_count": 38,
   "metadata": {},
   "outputs": [
    {
     "data": {
      "text/html": [
       "<div>\n",
       "<style scoped>\n",
       "    .dataframe tbody tr th:only-of-type {\n",
       "        vertical-align: middle;\n",
       "    }\n",
       "\n",
       "    .dataframe tbody tr th {\n",
       "        vertical-align: top;\n",
       "    }\n",
       "\n",
       "    .dataframe thead th {\n",
       "        text-align: right;\n",
       "    }\n",
       "</style>\n",
       "<table border=\"1\" class=\"dataframe\">\n",
       "  <thead>\n",
       "    <tr style=\"text-align: right;\">\n",
       "      <th></th>\n",
       "      <th>body</th>\n",
       "      <th>positive</th>\n",
       "      <th>negative</th>\n",
       "      <th>neutral</th>\n",
       "      <th>rated</th>\n",
       "      <th>comment_id</th>\n",
       "      <th>video_id</th>\n",
       "      <th>date</th>\n",
       "      <th>stripped_body</th>\n",
       "      <th>lang</th>\n",
       "      <th>lang_conf</th>\n",
       "    </tr>\n",
       "  </thead>\n",
       "  <tbody>\n",
       "    <tr>\n",
       "      <th>0</th>\n",
       "      <td>That is isi</td>\n",
       "      <td>0</td>\n",
       "      <td>0</td>\n",
       "      <td>0</td>\n",
       "      <td>0</td>\n",
       "      <td>UgwuZFfTaSoWvXEACxx4AaABAg</td>\n",
       "      <td>IJaAIyOEw0M</td>\n",
       "      <td>2020-11-23T13:32:49Z</td>\n",
       "      <td>That is isi</td>\n",
       "      <td></td>\n",
       "      <td></td>\n",
       "    </tr>\n",
       "    <tr>\n",
       "      <th>1</th>\n",
       "      <td>CWC devster is jelly</td>\n",
       "      <td>0</td>\n",
       "      <td>0</td>\n",
       "      <td>0</td>\n",
       "      <td>0</td>\n",
       "      <td>UgyOqAVOUalbqO8vgtB4AaABAg</td>\n",
       "      <td>IJaAIyOEw0M</td>\n",
       "      <td>2020-11-23T13:22:30Z</td>\n",
       "      <td>CWC devster is jelly</td>\n",
       "      <td></td>\n",
       "      <td></td>\n",
       "    </tr>\n",
       "    <tr>\n",
       "      <th>2</th>\n",
       "      <td>i love plaing piggy aswell😌</td>\n",
       "      <td>0</td>\n",
       "      <td>0</td>\n",
       "      <td>0</td>\n",
       "      <td>0</td>\n",
       "      <td>UgwHkyrnDZlAM5ntq3V4AaABAg</td>\n",
       "      <td>IJaAIyOEw0M</td>\n",
       "      <td>2020-11-23T12:35:23Z</td>\n",
       "      <td>i love plaing piggy aswell</td>\n",
       "      <td></td>\n",
       "      <td></td>\n",
       "    </tr>\n",
       "    <tr>\n",
       "      <th>3</th>\n",
       "      <td>chad regina i am a biggggg fannnnnnnnnnnnnn+</td>\n",
       "      <td>0</td>\n",
       "      <td>0</td>\n",
       "      <td>0</td>\n",
       "      <td>0</td>\n",
       "      <td>UgyB2RclkfwhPO0A8UN4AaABAg</td>\n",
       "      <td>IJaAIyOEw0M</td>\n",
       "      <td>2020-11-23T12:31:22Z</td>\n",
       "      <td>chad regina i am a biggggg fannnnnnnnnnnnnn+</td>\n",
       "      <td></td>\n",
       "      <td></td>\n",
       "    </tr>\n",
       "    <tr>\n",
       "      <th>4</th>\n",
       "      <td>They are so funny they make me laugh all the t...</td>\n",
       "      <td>0</td>\n",
       "      <td>0</td>\n",
       "      <td>0</td>\n",
       "      <td>0</td>\n",
       "      <td>UgyGHJQyzdvu1G-jvF54AaABAg</td>\n",
       "      <td>IJaAIyOEw0M</td>\n",
       "      <td>2020-11-23T12:11:17Z</td>\n",
       "      <td>They are so funny they make me laugh all the t...</td>\n",
       "      <td></td>\n",
       "      <td></td>\n",
       "    </tr>\n",
       "    <tr>\n",
       "      <th>...</th>\n",
       "      <td>...</td>\n",
       "      <td>...</td>\n",
       "      <td>...</td>\n",
       "      <td>...</td>\n",
       "      <td>...</td>\n",
       "      <td>...</td>\n",
       "      <td>...</td>\n",
       "      <td>...</td>\n",
       "      <td>...</td>\n",
       "      <td>...</td>\n",
       "      <td>...</td>\n",
       "    </tr>\n",
       "    <tr>\n",
       "      <th>828843</th>\n",
       "      <td>the singing, the production, the writing...per...</td>\n",
       "      <td>0</td>\n",
       "      <td>0</td>\n",
       "      <td>0</td>\n",
       "      <td>0</td>\n",
       "      <td>UgySOhaNknY4wEOatdV4AaABAg</td>\n",
       "      <td>kXYiU_JCYtU</td>\n",
       "      <td>2020-10-13T06:27:02Z</td>\n",
       "      <td>the singing, the production, the writing...per...</td>\n",
       "      <td></td>\n",
       "      <td></td>\n",
       "    </tr>\n",
       "    <tr>\n",
       "      <th>828844</th>\n",
       "      <td>So eu de br aqui??? 🇧🇷🇧🇷🇧🇷🇧🇷</td>\n",
       "      <td>0</td>\n",
       "      <td>0</td>\n",
       "      <td>0</td>\n",
       "      <td>0</td>\n",
       "      <td>UgyKjgSeaFxhBl1dvAt4AaABAg</td>\n",
       "      <td>kXYiU_JCYtU</td>\n",
       "      <td>2020-10-13T06:24:05Z</td>\n",
       "      <td>So eu de br aqui???</td>\n",
       "      <td></td>\n",
       "      <td></td>\n",
       "    </tr>\n",
       "    <tr>\n",
       "      <th>828845</th>\n",
       "      <td>I need boy friend</td>\n",
       "      <td>0</td>\n",
       "      <td>0</td>\n",
       "      <td>0</td>\n",
       "      <td>0</td>\n",
       "      <td>UgzZz2FvdpVbtE_1VMZ4AaABAg</td>\n",
       "      <td>kXYiU_JCYtU</td>\n",
       "      <td>2020-10-13T06:16:01Z</td>\n",
       "      <td>I need boy friend</td>\n",
       "      <td></td>\n",
       "      <td></td>\n",
       "    </tr>\n",
       "    <tr>\n",
       "      <th>828846</th>\n",
       "      <td>If you're still searching this song after 8 ye...</td>\n",
       "      <td>0</td>\n",
       "      <td>0</td>\n",
       "      <td>0</td>\n",
       "      <td>0</td>\n",
       "      <td>UgzBgZz48VnwiwoZd7V4AaABAg</td>\n",
       "      <td>kXYiU_JCYtU</td>\n",
       "      <td>2020-10-13T06:11:41Z</td>\n",
       "      <td>If you're still searching this song after 8 ye...</td>\n",
       "      <td></td>\n",
       "      <td></td>\n",
       "    </tr>\n",
       "    <tr>\n",
       "      <th>828847</th>\n",
       "      <td>The lyrics💓</td>\n",
       "      <td>0</td>\n",
       "      <td>0</td>\n",
       "      <td>0</td>\n",
       "      <td>0</td>\n",
       "      <td>Ugwd9DaxY1YyCsPwmtx4AaABAg</td>\n",
       "      <td>kXYiU_JCYtU</td>\n",
       "      <td>2020-10-13T05:59:10Z</td>\n",
       "      <td>The lyrics</td>\n",
       "      <td></td>\n",
       "      <td></td>\n",
       "    </tr>\n",
       "  </tbody>\n",
       "</table>\n",
       "<p>828848 rows × 11 columns</p>\n",
       "</div>"
      ],
      "text/plain": [
       "                                                     body  positive  negative  \\\n",
       "0                                             That is isi         0         0   \n",
       "1                                    CWC devster is jelly         0         0   \n",
       "2                             i love plaing piggy aswell😌         0         0   \n",
       "3            chad regina i am a biggggg fannnnnnnnnnnnnn+         0         0   \n",
       "4       They are so funny they make me laugh all the t...         0         0   \n",
       "...                                                   ...       ...       ...   \n",
       "828843  the singing, the production, the writing...per...         0         0   \n",
       "828844                       So eu de br aqui??? 🇧🇷🇧🇷🇧🇷🇧🇷         0         0   \n",
       "828845                                  I need boy friend         0         0   \n",
       "828846  If you're still searching this song after 8 ye...         0         0   \n",
       "828847                                        The lyrics💓         0         0   \n",
       "\n",
       "        neutral  rated                  comment_id     video_id  \\\n",
       "0             0      0  UgwuZFfTaSoWvXEACxx4AaABAg  IJaAIyOEw0M   \n",
       "1             0      0  UgyOqAVOUalbqO8vgtB4AaABAg  IJaAIyOEw0M   \n",
       "2             0      0  UgwHkyrnDZlAM5ntq3V4AaABAg  IJaAIyOEw0M   \n",
       "3             0      0  UgyB2RclkfwhPO0A8UN4AaABAg  IJaAIyOEw0M   \n",
       "4             0      0  UgyGHJQyzdvu1G-jvF54AaABAg  IJaAIyOEw0M   \n",
       "...         ...    ...                         ...          ...   \n",
       "828843        0      0  UgySOhaNknY4wEOatdV4AaABAg  kXYiU_JCYtU   \n",
       "828844        0      0  UgyKjgSeaFxhBl1dvAt4AaABAg  kXYiU_JCYtU   \n",
       "828845        0      0  UgzZz2FvdpVbtE_1VMZ4AaABAg  kXYiU_JCYtU   \n",
       "828846        0      0  UgzBgZz48VnwiwoZd7V4AaABAg  kXYiU_JCYtU   \n",
       "828847        0      0  Ugwd9DaxY1YyCsPwmtx4AaABAg  kXYiU_JCYtU   \n",
       "\n",
       "                        date  \\\n",
       "0       2020-11-23T13:32:49Z   \n",
       "1       2020-11-23T13:22:30Z   \n",
       "2       2020-11-23T12:35:23Z   \n",
       "3       2020-11-23T12:31:22Z   \n",
       "4       2020-11-23T12:11:17Z   \n",
       "...                      ...   \n",
       "828843  2020-10-13T06:27:02Z   \n",
       "828844  2020-10-13T06:24:05Z   \n",
       "828845  2020-10-13T06:16:01Z   \n",
       "828846  2020-10-13T06:11:41Z   \n",
       "828847  2020-10-13T05:59:10Z   \n",
       "\n",
       "                                            stripped_body lang lang_conf  \n",
       "0                                             That is isi                 \n",
       "1                                    CWC devster is jelly                 \n",
       "2                              i love plaing piggy aswell                 \n",
       "3            chad regina i am a biggggg fannnnnnnnnnnnnn+                 \n",
       "4       They are so funny they make me laugh all the t...                 \n",
       "...                                                   ...  ...       ...  \n",
       "828843  the singing, the production, the writing...per...                 \n",
       "828844                               So eu de br aqui???                  \n",
       "828845                                  I need boy friend                 \n",
       "828846  If you're still searching this song after 8 ye...                 \n",
       "828847                                         The lyrics                 \n",
       "\n",
       "[828848 rows x 11 columns]"
      ]
     },
     "execution_count": 38,
     "metadata": {},
     "output_type": "execute_result"
    }
   ],
   "source": [
    "data_original_23"
   ]
  },
  {
   "cell_type": "markdown",
   "metadata": {},
   "source": [
    "Total number of only emoji comments"
   ]
  },
  {
   "cell_type": "code",
   "execution_count": 42,
   "metadata": {},
   "outputs": [
    {
     "data": {
      "text/plain": [
       "14054"
      ]
     },
     "execution_count": 42,
     "metadata": {},
     "output_type": "execute_result"
    }
   ],
   "source": [
    "pure_emojis = len(data_original_23[data_original_23['stripped_body'] == ''])\n",
    "pure_emojis"
   ]
  },
  {
   "cell_type": "markdown",
   "metadata": {},
   "source": [
    "Set the language of these emoji only comments as \"emoji\" with confidence of 1"
   ]
  },
  {
   "cell_type": "code",
   "execution_count": 43,
   "metadata": {},
   "outputs": [],
   "source": [
    "data_original_23.loc[data_original_23['stripped_body'] == '', ['lang', 'lang_conf']] = 'emoji', 1.0"
   ]
  },
  {
   "cell_type": "code",
   "execution_count": 46,
   "metadata": {},
   "outputs": [],
   "source": [
    "data_original_23['stripped_body'] = [re.sub(r'https?://\\S+', '', comment) for comment in data_original_23['stripped_body']]"
   ]
  },
  {
   "cell_type": "code",
   "execution_count": 48,
   "metadata": {},
   "outputs": [
    {
     "data": {
      "text/plain": [
       "16639"
      ]
     },
     "execution_count": 48,
     "metadata": {},
     "output_type": "execute_result"
    }
   ],
   "source": [
    "emojis_and_urls = len(data_original_23[data_original_23['stripped_body'] == ''])\n",
    "pure_urls = emojis_and_urls - pure_emojis\n",
    "emojis_and_urls"
   ]
  },
  {
   "cell_type": "code",
   "execution_count": 49,
   "metadata": {},
   "outputs": [
    {
     "data": {
      "text/plain": [
       "2585"
      ]
     },
     "execution_count": 49,
     "metadata": {},
     "output_type": "execute_result"
    }
   ],
   "source": [
    "pure_urls"
   ]
  },
  {
   "cell_type": "markdown",
   "metadata": {},
   "source": [
    "Assign url only comments as url language with confidence of 1.0"
   ]
  },
  {
   "cell_type": "code",
   "execution_count": 54,
   "metadata": {},
   "outputs": [],
   "source": [
    "data_original_23.loc[(data_original_23['stripped_body'] == '') & (data_original_23['lang'] == ''), ['lang', 'lang_conf']] = 'url', 1.0"
   ]
  },
  {
   "cell_type": "markdown",
   "metadata": {},
   "source": [
    "Remove non alphanumeric characters"
   ]
  },
  {
   "cell_type": "code",
   "execution_count": 56,
   "metadata": {},
   "outputs": [],
   "source": [
    "data_original_23['stripped_body'] = [' '.join(re.findall(r'(?:[^\\W\\d_]+\\d|\\d+[^\\W\\d_])[^\\W_]*|[^\\W\\d_]+', comment)) for comment in data_original_23['stripped_body']]"
   ]
  },
  {
   "cell_type": "code",
   "execution_count": 57,
   "metadata": {},
   "outputs": [],
   "source": [
    "data_original_23.loc[(data_original_23['stripped_body'] == '') & (data_original_23['lang'] == ''), ['lang', 'lang_conf']] = 'non-alphanum', 1.0"
   ]
  },
  {
   "cell_type": "code",
   "execution_count": 60,
   "metadata": {},
   "outputs": [
    {
     "data": {
      "text/plain": [
       "                799934\n",
       "emoji            14054\n",
       "non-alphanum     12275\n",
       "url               2585\n",
       "Name: lang, dtype: int64"
      ]
     },
     "execution_count": 60,
     "metadata": {},
     "output_type": "execute_result"
    }
   ],
   "source": [
    "data_original_23['lang'].value_counts()"
   ]
  },
  {
   "cell_type": "code",
   "execution_count": 59,
   "metadata": {},
   "outputs": [
    {
     "data": {
      "text/plain": [
       "                96.5%\n",
       "emoji            1.7%\n",
       "non-alphanum     1.5%\n",
       "url              0.3%\n",
       "Name: lang, dtype: object"
      ]
     },
     "execution_count": 59,
     "metadata": {},
     "output_type": "execute_result"
    }
   ],
   "source": [
    "data_original_23['lang'].value_counts(normalize=True).mul(100).round(1).astype(str) + '%'"
   ]
  },
  {
   "cell_type": "markdown",
   "metadata": {},
   "source": [
    "All characters to lowercase"
   ]
  },
  {
   "cell_type": "code",
   "execution_count": 180,
   "metadata": {},
   "outputs": [],
   "source": [
    "data_original_23['stripped_body'] = [comment.lower() for comment in data_original_23['stripped_body']]"
   ]
  },
  {
   "cell_type": "markdown",
   "metadata": {},
   "source": [
    "Save the dataset"
   ]
  },
  {
   "cell_type": "code",
   "execution_count": 181,
   "metadata": {},
   "outputs": [],
   "source": [
    "data_original_23.to_csv('2020-11-23-processed.csv')"
   ]
  }
 ],
 "metadata": {
  "kernelspec": {
   "display_name": "Python 3",
   "language": "python",
   "name": "python3"
  },
  "language_info": {
   "codemirror_mode": {
    "name": "ipython",
    "version": 3
   },
   "file_extension": ".py",
   "mimetype": "text/x-python",
   "name": "python",
   "nbconvert_exporter": "python",
   "pygments_lexer": "ipython3",
   "version": "3.7.7"
  }
 },
 "nbformat": 4,
 "nbformat_minor": 4
}
