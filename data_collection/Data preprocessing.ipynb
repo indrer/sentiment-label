{
 "cells": [
  {
   "cell_type": "code",
   "execution_count": 4,
   "metadata": {},
   "outputs": [
    {
     "name": "stdout",
     "output_type": "stream",
     "text": [
      "Downloading emoji data ...\n",
      "... OK (Got response in 0.50 seconds)\n",
      "Writing emoji data to C:\\Users\\Indre\\.demoji\\codes.json ...\n",
      "... OK\n"
     ]
    }
   ],
   "source": [
    "import pandas as pd\n",
    "from googletrans import Translator\n",
    "import demoji\n",
    "demoji.download_codes()\n",
    "import re"
   ]
  },
  {
   "cell_type": "code",
   "execution_count": 13,
   "metadata": {},
   "outputs": [],
   "source": [
    "data_original_23 = pd.read_csv('2021-01-14.csv', names=['body', 'positive', 'negative', 'neutral', 'rated', 'comment_id', 'video_id', 'date'])"
   ]
  },
  {
   "cell_type": "code",
   "execution_count": 14,
   "metadata": {},
   "outputs": [
    {
     "data": {
      "text/plain": [
       "(98996, 8)"
      ]
     },
     "execution_count": 14,
     "metadata": {},
     "output_type": "execute_result"
    }
   ],
   "source": [
    "data_original_23.shape"
   ]
  },
  {
   "cell_type": "code",
   "execution_count": 15,
   "metadata": {},
   "outputs": [
    {
     "data": {
      "text/plain": [
       "wWLhrHVySgA    1000\n",
       "kfVsfOSbJY0    1000\n",
       "EeF3UTkCoxY    1000\n",
       "C_Ig3iHWDwk    1000\n",
       "5UWpNE5ElQE    1000\n",
       "               ... \n",
       "EnkAFDt-PxQ    1000\n",
       "lExW80sXsHs    1000\n",
       "t6hlkIlGFCI     999\n",
       "ztDveNj8vUI     999\n",
       "VY4wCi1pPkU     998\n",
       "Name: video_id, Length: 99, dtype: int64"
      ]
     },
     "execution_count": 15,
     "metadata": {},
     "output_type": "execute_result"
    }
   ],
   "source": [
    "data_original_23['video_id'].value_counts()"
   ]
  },
  {
   "cell_type": "code",
   "execution_count": 16,
   "metadata": {},
   "outputs": [
    {
     "data": {
      "text/html": [
       "<div>\n",
       "<style scoped>\n",
       "    .dataframe tbody tr th:only-of-type {\n",
       "        vertical-align: middle;\n",
       "    }\n",
       "\n",
       "    .dataframe tbody tr th {\n",
       "        vertical-align: top;\n",
       "    }\n",
       "\n",
       "    .dataframe thead th {\n",
       "        text-align: right;\n",
       "    }\n",
       "</style>\n",
       "<table border=\"1\" class=\"dataframe\">\n",
       "  <thead>\n",
       "    <tr style=\"text-align: right;\">\n",
       "      <th></th>\n",
       "      <th>body</th>\n",
       "      <th>positive</th>\n",
       "      <th>negative</th>\n",
       "      <th>neutral</th>\n",
       "      <th>rated</th>\n",
       "      <th>comment_id</th>\n",
       "      <th>video_id</th>\n",
       "      <th>date</th>\n",
       "    </tr>\n",
       "  </thead>\n",
       "  <tbody>\n",
       "    <tr>\n",
       "      <th>0</th>\n",
       "      <td>Why did the bridge lower the blast shield? Mak...</td>\n",
       "      <td>0</td>\n",
       "      <td>0</td>\n",
       "      <td>0</td>\n",
       "      <td>0</td>\n",
       "      <td>UgzwezSgxMfmCauUHBt4AaABAg</td>\n",
       "      <td>PpcNQNJmU9Y</td>\n",
       "      <td>2020-11-11T16:00:30Z</td>\n",
       "    </tr>\n",
       "    <tr>\n",
       "      <th>1</th>\n",
       "      <td>The 83k dislikes are the one who couldn't pilo...</td>\n",
       "      <td>0</td>\n",
       "      <td>0</td>\n",
       "      <td>0</td>\n",
       "      <td>0</td>\n",
       "      <td>Ugy10Bb7H5WQ6pBBqKl4AaABAg</td>\n",
       "      <td>PpcNQNJmU9Y</td>\n",
       "      <td>2020-10-30T15:51:41Z</td>\n",
       "    </tr>\n",
       "    <tr>\n",
       "      <th>2</th>\n",
       "      <td>Imagine if COD IW didn’t have multiplayer &amp; zo...</td>\n",
       "      <td>0</td>\n",
       "      <td>0</td>\n",
       "      <td>0</td>\n",
       "      <td>0</td>\n",
       "      <td>UgyJsTQCvY7ujAXuuu14AaABAg</td>\n",
       "      <td>PpcNQNJmU9Y</td>\n",
       "      <td>2020-09-22T10:54:53Z</td>\n",
       "    </tr>\n",
       "    <tr>\n",
       "      <th>3</th>\n",
       "      <td>Inreally want them to create an rts space batt...</td>\n",
       "      <td>0</td>\n",
       "      <td>0</td>\n",
       "      <td>0</td>\n",
       "      <td>0</td>\n",
       "      <td>Ugxu2DIxLbvt5DaexBp4AaABAg</td>\n",
       "      <td>PpcNQNJmU9Y</td>\n",
       "      <td>2020-09-05T18:08:09Z</td>\n",
       "    </tr>\n",
       "    <tr>\n",
       "      <th>4</th>\n",
       "      <td>Im also a 👦 not a 👧 so dont mimd the profile t...</td>\n",
       "      <td>0</td>\n",
       "      <td>0</td>\n",
       "      <td>0</td>\n",
       "      <td>0</td>\n",
       "      <td>UgzsZ_ij76yXUpu_U7x4AaABAg</td>\n",
       "      <td>PpcNQNJmU9Y</td>\n",
       "      <td>2020-06-15T05:24:25Z</td>\n",
       "    </tr>\n",
       "    <tr>\n",
       "      <th>...</th>\n",
       "      <td>...</td>\n",
       "      <td>...</td>\n",
       "      <td>...</td>\n",
       "      <td>...</td>\n",
       "      <td>...</td>\n",
       "      <td>...</td>\n",
       "      <td>...</td>\n",
       "      <td>...</td>\n",
       "    </tr>\n",
       "    <tr>\n",
       "      <th>98991</th>\n",
       "      <td>What do you mean 217 thousand people didn't li...</td>\n",
       "      <td>0</td>\n",
       "      <td>0</td>\n",
       "      <td>0</td>\n",
       "      <td>0</td>\n",
       "      <td>Ugw8dvix8PZOR-63vZl4AaABAg</td>\n",
       "      <td>kXYiU_JCYtU</td>\n",
       "      <td>2021-01-07T03:25:23Z</td>\n",
       "    </tr>\n",
       "    <tr>\n",
       "      <th>98992</th>\n",
       "      <td>HD pls</td>\n",
       "      <td>0</td>\n",
       "      <td>0</td>\n",
       "      <td>0</td>\n",
       "      <td>0</td>\n",
       "      <td>UgxVSNHg42mCwjVhpG94AaABAg</td>\n",
       "      <td>kXYiU_JCYtU</td>\n",
       "      <td>2021-01-07T03:19:36Z</td>\n",
       "    </tr>\n",
       "    <tr>\n",
       "      <th>98993</th>\n",
       "      <td>I came here after Ateez hongjoong cover!</td>\n",
       "      <td>0</td>\n",
       "      <td>0</td>\n",
       "      <td>0</td>\n",
       "      <td>0</td>\n",
       "      <td>UgxsO9wqwRj2hpGlgpl4AaABAg</td>\n",
       "      <td>kXYiU_JCYtU</td>\n",
       "      <td>2021-01-07T03:16:02Z</td>\n",
       "    </tr>\n",
       "    <tr>\n",
       "      <th>98994</th>\n",
       "      <td>Amazing.. pieceart</td>\n",
       "      <td>0</td>\n",
       "      <td>0</td>\n",
       "      <td>0</td>\n",
       "      <td>0</td>\n",
       "      <td>UgxRxWj7wYD5WBrDY0Z4AaABAg</td>\n",
       "      <td>kXYiU_JCYtU</td>\n",
       "      <td>2021-01-07T03:06:55Z</td>\n",
       "    </tr>\n",
       "    <tr>\n",
       "      <th>98995</th>\n",
       "      <td>I suddenly miss Linkin Park, Chester especiall...</td>\n",
       "      <td>0</td>\n",
       "      <td>0</td>\n",
       "      <td>0</td>\n",
       "      <td>0</td>\n",
       "      <td>Ugxi5iI9q4Ut3pNFHdV4AaABAg</td>\n",
       "      <td>kXYiU_JCYtU</td>\n",
       "      <td>2021-01-07T02:05:31Z</td>\n",
       "    </tr>\n",
       "  </tbody>\n",
       "</table>\n",
       "<p>98996 rows × 8 columns</p>\n",
       "</div>"
      ],
      "text/plain": [
       "                                                    body  positive  negative  \\\n",
       "0      Why did the bridge lower the blast shield? Mak...         0         0   \n",
       "1      The 83k dislikes are the one who couldn't pilo...         0         0   \n",
       "2      Imagine if COD IW didn’t have multiplayer & zo...         0         0   \n",
       "3      Inreally want them to create an rts space batt...         0         0   \n",
       "4      Im also a 👦 not a 👧 so dont mimd the profile t...         0         0   \n",
       "...                                                  ...       ...       ...   \n",
       "98991  What do you mean 217 thousand people didn't li...         0         0   \n",
       "98992                                             HD pls         0         0   \n",
       "98993           I came here after Ateez hongjoong cover!         0         0   \n",
       "98994                                 Amazing.. pieceart         0         0   \n",
       "98995  I suddenly miss Linkin Park, Chester especiall...         0         0   \n",
       "\n",
       "       neutral  rated                  comment_id     video_id  \\\n",
       "0            0      0  UgzwezSgxMfmCauUHBt4AaABAg  PpcNQNJmU9Y   \n",
       "1            0      0  Ugy10Bb7H5WQ6pBBqKl4AaABAg  PpcNQNJmU9Y   \n",
       "2            0      0  UgyJsTQCvY7ujAXuuu14AaABAg  PpcNQNJmU9Y   \n",
       "3            0      0  Ugxu2DIxLbvt5DaexBp4AaABAg  PpcNQNJmU9Y   \n",
       "4            0      0  UgzsZ_ij76yXUpu_U7x4AaABAg  PpcNQNJmU9Y   \n",
       "...        ...    ...                         ...          ...   \n",
       "98991        0      0  Ugw8dvix8PZOR-63vZl4AaABAg  kXYiU_JCYtU   \n",
       "98992        0      0  UgxVSNHg42mCwjVhpG94AaABAg  kXYiU_JCYtU   \n",
       "98993        0      0  UgxsO9wqwRj2hpGlgpl4AaABAg  kXYiU_JCYtU   \n",
       "98994        0      0  UgxRxWj7wYD5WBrDY0Z4AaABAg  kXYiU_JCYtU   \n",
       "98995        0      0  Ugxi5iI9q4Ut3pNFHdV4AaABAg  kXYiU_JCYtU   \n",
       "\n",
       "                       date  \n",
       "0      2020-11-11T16:00:30Z  \n",
       "1      2020-10-30T15:51:41Z  \n",
       "2      2020-09-22T10:54:53Z  \n",
       "3      2020-09-05T18:08:09Z  \n",
       "4      2020-06-15T05:24:25Z  \n",
       "...                     ...  \n",
       "98991  2021-01-07T03:25:23Z  \n",
       "98992  2021-01-07T03:19:36Z  \n",
       "98993  2021-01-07T03:16:02Z  \n",
       "98994  2021-01-07T03:06:55Z  \n",
       "98995  2021-01-07T02:05:31Z  \n",
       "\n",
       "[98996 rows x 8 columns]"
      ]
     },
     "execution_count": 16,
     "metadata": {},
     "output_type": "execute_result"
    }
   ],
   "source": [
    "data_original_23"
   ]
  },
  {
   "cell_type": "markdown",
   "metadata": {},
   "source": [
    "Check for duplicates"
   ]
  },
  {
   "cell_type": "code",
   "execution_count": 17,
   "metadata": {},
   "outputs": [
    {
     "data": {
      "text/plain": [
       "(98996, 8)"
      ]
     },
     "execution_count": 17,
     "metadata": {},
     "output_type": "execute_result"
    }
   ],
   "source": [
    "data_original_23.drop_duplicates('comment_id').shape"
   ]
  },
  {
   "cell_type": "markdown",
   "metadata": {},
   "source": [
    "We will use language and language confidence columns"
   ]
  },
  {
   "cell_type": "code",
   "execution_count": 18,
   "metadata": {},
   "outputs": [],
   "source": [
    "data_original_23['lang'] = ''\n",
    "data_original_23['lang_conf'] = ''"
   ]
  },
  {
   "cell_type": "markdown",
   "metadata": {},
   "source": [
    "Remove emoji only comments"
   ]
  },
  {
   "cell_type": "code",
   "execution_count": 19,
   "metadata": {},
   "outputs": [],
   "source": [
    "data_original_23['stripped_body'] = [demoji.replace(str(comment)) for comment in data_original_23['body'].values]"
   ]
  },
  {
   "cell_type": "code",
   "execution_count": 20,
   "metadata": {},
   "outputs": [
    {
     "data": {
      "text/html": [
       "<div>\n",
       "<style scoped>\n",
       "    .dataframe tbody tr th:only-of-type {\n",
       "        vertical-align: middle;\n",
       "    }\n",
       "\n",
       "    .dataframe tbody tr th {\n",
       "        vertical-align: top;\n",
       "    }\n",
       "\n",
       "    .dataframe thead th {\n",
       "        text-align: right;\n",
       "    }\n",
       "</style>\n",
       "<table border=\"1\" class=\"dataframe\">\n",
       "  <thead>\n",
       "    <tr style=\"text-align: right;\">\n",
       "      <th></th>\n",
       "      <th>body</th>\n",
       "      <th>positive</th>\n",
       "      <th>negative</th>\n",
       "      <th>neutral</th>\n",
       "      <th>rated</th>\n",
       "      <th>comment_id</th>\n",
       "      <th>video_id</th>\n",
       "      <th>date</th>\n",
       "      <th>lang</th>\n",
       "      <th>lang_conf</th>\n",
       "      <th>stripped_body</th>\n",
       "    </tr>\n",
       "  </thead>\n",
       "  <tbody>\n",
       "    <tr>\n",
       "      <th>0</th>\n",
       "      <td>Why did the bridge lower the blast shield? Mak...</td>\n",
       "      <td>0</td>\n",
       "      <td>0</td>\n",
       "      <td>0</td>\n",
       "      <td>0</td>\n",
       "      <td>UgzwezSgxMfmCauUHBt4AaABAg</td>\n",
       "      <td>PpcNQNJmU9Y</td>\n",
       "      <td>2020-11-11T16:00:30Z</td>\n",
       "      <td></td>\n",
       "      <td></td>\n",
       "      <td>Why did the bridge lower the blast shield? Mak...</td>\n",
       "    </tr>\n",
       "    <tr>\n",
       "      <th>1</th>\n",
       "      <td>The 83k dislikes are the one who couldn't pilo...</td>\n",
       "      <td>0</td>\n",
       "      <td>0</td>\n",
       "      <td>0</td>\n",
       "      <td>0</td>\n",
       "      <td>Ugy10Bb7H5WQ6pBBqKl4AaABAg</td>\n",
       "      <td>PpcNQNJmU9Y</td>\n",
       "      <td>2020-10-30T15:51:41Z</td>\n",
       "      <td></td>\n",
       "      <td></td>\n",
       "      <td>The 83k dislikes are the one who couldn't pilo...</td>\n",
       "    </tr>\n",
       "    <tr>\n",
       "      <th>2</th>\n",
       "      <td>Imagine if COD IW didn’t have multiplayer &amp; zo...</td>\n",
       "      <td>0</td>\n",
       "      <td>0</td>\n",
       "      <td>0</td>\n",
       "      <td>0</td>\n",
       "      <td>UgyJsTQCvY7ujAXuuu14AaABAg</td>\n",
       "      <td>PpcNQNJmU9Y</td>\n",
       "      <td>2020-09-22T10:54:53Z</td>\n",
       "      <td></td>\n",
       "      <td></td>\n",
       "      <td>Imagine if COD IW didn’t have multiplayer &amp; zo...</td>\n",
       "    </tr>\n",
       "    <tr>\n",
       "      <th>3</th>\n",
       "      <td>Inreally want them to create an rts space batt...</td>\n",
       "      <td>0</td>\n",
       "      <td>0</td>\n",
       "      <td>0</td>\n",
       "      <td>0</td>\n",
       "      <td>Ugxu2DIxLbvt5DaexBp4AaABAg</td>\n",
       "      <td>PpcNQNJmU9Y</td>\n",
       "      <td>2020-09-05T18:08:09Z</td>\n",
       "      <td></td>\n",
       "      <td></td>\n",
       "      <td>Inreally want them to create an rts space batt...</td>\n",
       "    </tr>\n",
       "    <tr>\n",
       "      <th>4</th>\n",
       "      <td>Im also a 👦 not a 👧 so dont mimd the profile t...</td>\n",
       "      <td>0</td>\n",
       "      <td>0</td>\n",
       "      <td>0</td>\n",
       "      <td>0</td>\n",
       "      <td>UgzsZ_ij76yXUpu_U7x4AaABAg</td>\n",
       "      <td>PpcNQNJmU9Y</td>\n",
       "      <td>2020-06-15T05:24:25Z</td>\n",
       "      <td></td>\n",
       "      <td></td>\n",
       "      <td>Im also a  not a  so dont mimd the profile tha...</td>\n",
       "    </tr>\n",
       "    <tr>\n",
       "      <th>...</th>\n",
       "      <td>...</td>\n",
       "      <td>...</td>\n",
       "      <td>...</td>\n",
       "      <td>...</td>\n",
       "      <td>...</td>\n",
       "      <td>...</td>\n",
       "      <td>...</td>\n",
       "      <td>...</td>\n",
       "      <td>...</td>\n",
       "      <td>...</td>\n",
       "      <td>...</td>\n",
       "    </tr>\n",
       "    <tr>\n",
       "      <th>98991</th>\n",
       "      <td>What do you mean 217 thousand people didn't li...</td>\n",
       "      <td>0</td>\n",
       "      <td>0</td>\n",
       "      <td>0</td>\n",
       "      <td>0</td>\n",
       "      <td>Ugw8dvix8PZOR-63vZl4AaABAg</td>\n",
       "      <td>kXYiU_JCYtU</td>\n",
       "      <td>2021-01-07T03:25:23Z</td>\n",
       "      <td></td>\n",
       "      <td></td>\n",
       "      <td>What do you mean 217 thousand people didn't li...</td>\n",
       "    </tr>\n",
       "    <tr>\n",
       "      <th>98992</th>\n",
       "      <td>HD pls</td>\n",
       "      <td>0</td>\n",
       "      <td>0</td>\n",
       "      <td>0</td>\n",
       "      <td>0</td>\n",
       "      <td>UgxVSNHg42mCwjVhpG94AaABAg</td>\n",
       "      <td>kXYiU_JCYtU</td>\n",
       "      <td>2021-01-07T03:19:36Z</td>\n",
       "      <td></td>\n",
       "      <td></td>\n",
       "      <td>HD pls</td>\n",
       "    </tr>\n",
       "    <tr>\n",
       "      <th>98993</th>\n",
       "      <td>I came here after Ateez hongjoong cover!</td>\n",
       "      <td>0</td>\n",
       "      <td>0</td>\n",
       "      <td>0</td>\n",
       "      <td>0</td>\n",
       "      <td>UgxsO9wqwRj2hpGlgpl4AaABAg</td>\n",
       "      <td>kXYiU_JCYtU</td>\n",
       "      <td>2021-01-07T03:16:02Z</td>\n",
       "      <td></td>\n",
       "      <td></td>\n",
       "      <td>I came here after Ateez hongjoong cover!</td>\n",
       "    </tr>\n",
       "    <tr>\n",
       "      <th>98994</th>\n",
       "      <td>Amazing.. pieceart</td>\n",
       "      <td>0</td>\n",
       "      <td>0</td>\n",
       "      <td>0</td>\n",
       "      <td>0</td>\n",
       "      <td>UgxRxWj7wYD5WBrDY0Z4AaABAg</td>\n",
       "      <td>kXYiU_JCYtU</td>\n",
       "      <td>2021-01-07T03:06:55Z</td>\n",
       "      <td></td>\n",
       "      <td></td>\n",
       "      <td>Amazing.. pieceart</td>\n",
       "    </tr>\n",
       "    <tr>\n",
       "      <th>98995</th>\n",
       "      <td>I suddenly miss Linkin Park, Chester especiall...</td>\n",
       "      <td>0</td>\n",
       "      <td>0</td>\n",
       "      <td>0</td>\n",
       "      <td>0</td>\n",
       "      <td>Ugxi5iI9q4Ut3pNFHdV4AaABAg</td>\n",
       "      <td>kXYiU_JCYtU</td>\n",
       "      <td>2021-01-07T02:05:31Z</td>\n",
       "      <td></td>\n",
       "      <td></td>\n",
       "      <td>I suddenly miss Linkin Park, Chester especiall...</td>\n",
       "    </tr>\n",
       "  </tbody>\n",
       "</table>\n",
       "<p>98996 rows × 11 columns</p>\n",
       "</div>"
      ],
      "text/plain": [
       "                                                    body  positive  negative  \\\n",
       "0      Why did the bridge lower the blast shield? Mak...         0         0   \n",
       "1      The 83k dislikes are the one who couldn't pilo...         0         0   \n",
       "2      Imagine if COD IW didn’t have multiplayer & zo...         0         0   \n",
       "3      Inreally want them to create an rts space batt...         0         0   \n",
       "4      Im also a 👦 not a 👧 so dont mimd the profile t...         0         0   \n",
       "...                                                  ...       ...       ...   \n",
       "98991  What do you mean 217 thousand people didn't li...         0         0   \n",
       "98992                                             HD pls         0         0   \n",
       "98993           I came here after Ateez hongjoong cover!         0         0   \n",
       "98994                                 Amazing.. pieceart         0         0   \n",
       "98995  I suddenly miss Linkin Park, Chester especiall...         0         0   \n",
       "\n",
       "       neutral  rated                  comment_id     video_id  \\\n",
       "0            0      0  UgzwezSgxMfmCauUHBt4AaABAg  PpcNQNJmU9Y   \n",
       "1            0      0  Ugy10Bb7H5WQ6pBBqKl4AaABAg  PpcNQNJmU9Y   \n",
       "2            0      0  UgyJsTQCvY7ujAXuuu14AaABAg  PpcNQNJmU9Y   \n",
       "3            0      0  Ugxu2DIxLbvt5DaexBp4AaABAg  PpcNQNJmU9Y   \n",
       "4            0      0  UgzsZ_ij76yXUpu_U7x4AaABAg  PpcNQNJmU9Y   \n",
       "...        ...    ...                         ...          ...   \n",
       "98991        0      0  Ugw8dvix8PZOR-63vZl4AaABAg  kXYiU_JCYtU   \n",
       "98992        0      0  UgxVSNHg42mCwjVhpG94AaABAg  kXYiU_JCYtU   \n",
       "98993        0      0  UgxsO9wqwRj2hpGlgpl4AaABAg  kXYiU_JCYtU   \n",
       "98994        0      0  UgxRxWj7wYD5WBrDY0Z4AaABAg  kXYiU_JCYtU   \n",
       "98995        0      0  Ugxi5iI9q4Ut3pNFHdV4AaABAg  kXYiU_JCYtU   \n",
       "\n",
       "                       date lang lang_conf  \\\n",
       "0      2020-11-11T16:00:30Z                  \n",
       "1      2020-10-30T15:51:41Z                  \n",
       "2      2020-09-22T10:54:53Z                  \n",
       "3      2020-09-05T18:08:09Z                  \n",
       "4      2020-06-15T05:24:25Z                  \n",
       "...                     ...  ...       ...   \n",
       "98991  2021-01-07T03:25:23Z                  \n",
       "98992  2021-01-07T03:19:36Z                  \n",
       "98993  2021-01-07T03:16:02Z                  \n",
       "98994  2021-01-07T03:06:55Z                  \n",
       "98995  2021-01-07T02:05:31Z                  \n",
       "\n",
       "                                           stripped_body  \n",
       "0      Why did the bridge lower the blast shield? Mak...  \n",
       "1      The 83k dislikes are the one who couldn't pilo...  \n",
       "2      Imagine if COD IW didn’t have multiplayer & zo...  \n",
       "3      Inreally want them to create an rts space batt...  \n",
       "4      Im also a  not a  so dont mimd the profile tha...  \n",
       "...                                                  ...  \n",
       "98991  What do you mean 217 thousand people didn't li...  \n",
       "98992                                             HD pls  \n",
       "98993           I came here after Ateez hongjoong cover!  \n",
       "98994                                 Amazing.. pieceart  \n",
       "98995  I suddenly miss Linkin Park, Chester especiall...  \n",
       "\n",
       "[98996 rows x 11 columns]"
      ]
     },
     "execution_count": 20,
     "metadata": {},
     "output_type": "execute_result"
    }
   ],
   "source": [
    "data_original_23"
   ]
  },
  {
   "cell_type": "markdown",
   "metadata": {},
   "source": [
    "Total number of only emoji comments"
   ]
  },
  {
   "cell_type": "code",
   "execution_count": 21,
   "metadata": {},
   "outputs": [
    {
     "data": {
      "text/plain": [
       "1151"
      ]
     },
     "execution_count": 21,
     "metadata": {},
     "output_type": "execute_result"
    }
   ],
   "source": [
    "pure_emojis = len(data_original_23[data_original_23['stripped_body'] == ''])\n",
    "pure_emojis"
   ]
  },
  {
   "cell_type": "markdown",
   "metadata": {},
   "source": [
    "Set the language of these emoji only comments as \"emoji\" with confidence of 1"
   ]
  },
  {
   "cell_type": "code",
   "execution_count": 22,
   "metadata": {},
   "outputs": [],
   "source": [
    "data_original_23.loc[data_original_23['stripped_body'] == '', ['lang', 'lang_conf']] = 'emoji', 1.0"
   ]
  },
  {
   "cell_type": "code",
   "execution_count": 23,
   "metadata": {},
   "outputs": [],
   "source": [
    "data_original_23['stripped_body'] = [re.sub(r'https?://\\S+', '', comment) for comment in data_original_23['stripped_body']]"
   ]
  },
  {
   "cell_type": "code",
   "execution_count": 24,
   "metadata": {},
   "outputs": [
    {
     "data": {
      "text/plain": [
       "1322"
      ]
     },
     "execution_count": 24,
     "metadata": {},
     "output_type": "execute_result"
    }
   ],
   "source": [
    "emojis_and_urls = len(data_original_23[data_original_23['stripped_body'] == ''])\n",
    "pure_urls = emojis_and_urls - pure_emojis\n",
    "emojis_and_urls"
   ]
  },
  {
   "cell_type": "code",
   "execution_count": 25,
   "metadata": {},
   "outputs": [
    {
     "data": {
      "text/plain": [
       "171"
      ]
     },
     "execution_count": 25,
     "metadata": {},
     "output_type": "execute_result"
    }
   ],
   "source": [
    "pure_urls"
   ]
  },
  {
   "cell_type": "markdown",
   "metadata": {},
   "source": [
    "Assign url only comments as url language with confidence of 1.0"
   ]
  },
  {
   "cell_type": "code",
   "execution_count": 26,
   "metadata": {},
   "outputs": [],
   "source": [
    "data_original_23.loc[(data_original_23['stripped_body'] == '') & (data_original_23['lang'] == ''), ['lang', 'lang_conf']] = 'url', 1.0"
   ]
  },
  {
   "cell_type": "markdown",
   "metadata": {},
   "source": [
    "Remove non alphanumeric characters"
   ]
  },
  {
   "cell_type": "code",
   "execution_count": 27,
   "metadata": {},
   "outputs": [],
   "source": [
    "data_original_23['stripped_body'] = [' '.join(re.findall(r'(?:[^\\W\\d_]+\\d|\\d+[^\\W\\d_])[^\\W_]*|[^\\W\\d_]+', comment)) for comment in data_original_23['stripped_body']]"
   ]
  },
  {
   "cell_type": "code",
   "execution_count": 28,
   "metadata": {},
   "outputs": [],
   "source": [
    "data_original_23.loc[(data_original_23['stripped_body'] == '') & (data_original_23['lang'] == ''), ['lang', 'lang_conf']] = 'non-alphanum', 1.0"
   ]
  },
  {
   "cell_type": "code",
   "execution_count": 29,
   "metadata": {},
   "outputs": [
    {
     "data": {
      "text/plain": [
       "                95735\n",
       "non-alphanum     1939\n",
       "emoji            1151\n",
       "url               171\n",
       "Name: lang, dtype: int64"
      ]
     },
     "execution_count": 29,
     "metadata": {},
     "output_type": "execute_result"
    }
   ],
   "source": [
    "data_original_23['lang'].value_counts()"
   ]
  },
  {
   "cell_type": "code",
   "execution_count": 30,
   "metadata": {},
   "outputs": [
    {
     "data": {
      "text/plain": [
       "                96.7%\n",
       "non-alphanum     2.0%\n",
       "emoji            1.2%\n",
       "url              0.2%\n",
       "Name: lang, dtype: object"
      ]
     },
     "execution_count": 30,
     "metadata": {},
     "output_type": "execute_result"
    }
   ],
   "source": [
    "data_original_23['lang'].value_counts(normalize=True).mul(100).round(1).astype(str) + '%'"
   ]
  },
  {
   "cell_type": "markdown",
   "metadata": {},
   "source": [
    "All characters to lowercase"
   ]
  },
  {
   "cell_type": "code",
   "execution_count": 31,
   "metadata": {},
   "outputs": [],
   "source": [
    "data_original_23['stripped_body'] = [comment.lower() for comment in data_original_23['stripped_body']]"
   ]
  },
  {
   "cell_type": "markdown",
   "metadata": {},
   "source": [
    "Save the dataset"
   ]
  },
  {
   "cell_type": "code",
   "execution_count": 32,
   "metadata": {},
   "outputs": [],
   "source": [
    "data_original_23.to_csv('2021-01-14-processed.csv')"
   ]
  }
 ],
 "metadata": {
  "kernelspec": {
   "display_name": "Python 3",
   "language": "python",
   "name": "python3"
  },
  "language_info": {
   "codemirror_mode": {
    "name": "ipython",
    "version": 3
   },
   "file_extension": ".py",
   "mimetype": "text/x-python",
   "name": "python",
   "nbconvert_exporter": "python",
   "pygments_lexer": "ipython3",
   "version": "3.7.8"
  }
 },
 "nbformat": 4,
 "nbformat_minor": 4
}
